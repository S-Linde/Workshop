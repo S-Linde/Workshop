{
  "nbformat": 4,
  "nbformat_minor": 0,
  "metadata": {
    "colab": {
      "provenance": []
    },
    "kernelspec": {
      "name": "python3",
      "display_name": "Python 3"
    },
    "language_info": {
      "name": "python"
    }
  },
  "cells": [
    {
      "cell_type": "code",
      "execution_count": null,
      "metadata": {
        "id": "ggsRAjTLRT7I"
      },
      "outputs": [],
      "source": [
        "%pip install pennylane matplotlib\n",
        "import pennylane as qml\n",
        "import matplotlib.pyplot as plt\n",
        "\n",
        "dev = qml.device(\"default.qubit\")\n",
        "\n",
        "def draw(circuit):\n",
        "    qml.draw_mpl(circuit, style=\"pennylane_sketch\")()\n",
        "    plt.show()\n",
        "\n",
        "\n",
        "def run(circuit):\n",
        "    probs = circuit()\n",
        "    n_qubits = (len(probs)-1).bit_length()\n",
        "    outcomes = [str(bin(i))[2:].zfill(n_qubits) for i in range(2**n_qubits)]\n",
        "\n",
        "    plt.style.use(\"seaborn-v0_8\")\n",
        "    plt.bar(outcomes, probs)\n",
        "    plt.ylabel(\"Probability\")\n",
        "    plt.ylim(0,1)\n",
        "    plt.show()"
      ]
    },
    {
      "cell_type": "markdown",
      "source": [
        "# Circuit 1: Classical\n",
        "This circuit applies the `X` gate to each qubit. The `X` gate is simmilar to the classical `NOT` gate: it flips the bit."
      ],
      "metadata": {
        "id": "ra7OM8M5Ry3B"
      }
    },
    {
      "cell_type": "code",
      "source": [
        "@qml.qnode(dev)\n",
        "def circuit():\n",
        "    qml.X(\"q0\")\n",
        "    qml.X(\"q1\")\n",
        "    return qml.probs()\n",
        "\n",
        "draw(circuit)"
      ],
      "metadata": {
        "id": "DS-PURTXSE8S"
      },
      "execution_count": null,
      "outputs": []
    },
    {
      "cell_type": "markdown",
      "source": [
        "What do you think would be the outcome of this quantum circuit? You can get the answer by running the code block below."
      ],
      "metadata": {
        "id": "2vHBnpPiSdhe"
      }
    },
    {
      "cell_type": "code",
      "source": [
        "run(circuit)"
      ],
      "metadata": {
        "id": "IlPx9gOtSi6J"
      },
      "execution_count": null,
      "outputs": []
    },
    {
      "cell_type": "markdown",
      "source": [
        "# Circuit 2: Superposition\n",
        "This circuit applies the `X` gate to the second qubit and the `H` gate to the first qubit. The `H` gate brings a qubit in perfect superposition.\n",
        "\n"
      ],
      "metadata": {
        "id": "DtW22n8zSxnk"
      }
    },
    {
      "cell_type": "code",
      "source": [
        "@qml.qnode(dev)\n",
        "def circuit():\n",
        "    qml.H(\"q0\")\n",
        "    qml.X(\"q1\")\n",
        "    return qml.probs()\n",
        "\n",
        "draw(circuit)"
      ],
      "metadata": {
        "id": "VLOe44W2TGD-"
      },
      "execution_count": null,
      "outputs": []
    },
    {
      "cell_type": "markdown",
      "source": [
        "What do you think would be the outcome of this quantum circuit? You can get the answer by running the code block below."
      ],
      "metadata": {
        "id": "mSVuIHbATxMA"
      }
    },
    {
      "cell_type": "code",
      "source": [
        "run(circuit)"
      ],
      "metadata": {
        "id": "cpE18ioeTx0a"
      },
      "execution_count": null,
      "outputs": []
    },
    {
      "cell_type": "markdown",
      "source": [
        "# Circuit 3: Entanglement?\n",
        "This circuit applies the `H` gate to the first qubit, followed by  `CNOT` (Controlled NOT) gate, where the first qubit is the control and the second qubit is the target. The `CNOT` gate flips the target qubit if the control qubit is $|1\\rangle$ and does nothing if the control qubit is $|0\\rangle$."
      ],
      "metadata": {
        "id": "LhwzUkQaT9sH"
      }
    },
    {
      "cell_type": "code",
      "source": [
        "@qml.qnode(dev)\n",
        "def circuit():\n",
        "    qml.H(\"q0\")\n",
        "    qml.CNOT([\"q0\", \"q1\"])\n",
        "    return qml.probs()\n",
        "\n",
        "draw(circuit)"
      ],
      "metadata": {
        "id": "WhnaiNCbT8WY"
      },
      "execution_count": null,
      "outputs": []
    },
    {
      "cell_type": "markdown",
      "source": [
        "What do you think would be the outcome of this quantum circuit? You can get the answer by running the code block below."
      ],
      "metadata": {
        "id": "POcQhnx7U7_G"
      }
    },
    {
      "cell_type": "code",
      "source": [
        "run(circuit)"
      ],
      "metadata": {
        "id": "6uQ0a6xyU8o8"
      },
      "execution_count": null,
      "outputs": []
    },
    {
      "cell_type": "markdown",
      "source": [
        "# Circuit 4: Entanglement!\n",
        "This circuit adds another `H` gate to the first qubit."
      ],
      "metadata": {
        "id": "l3IHNKjAVLCL"
      }
    },
    {
      "cell_type": "code",
      "source": [
        "@qml.qnode(dev)\n",
        "def circuit():\n",
        "    qml.H(\"q0\")\n",
        "    qml.CNOT([\"q0\", \"q1\"])\n",
        "    qml.H(\"q0\")\n",
        "    return qml.probs()\n",
        "\n",
        "draw(circuit)"
      ],
      "metadata": {
        "id": "v9QxYsllVEwC"
      },
      "execution_count": null,
      "outputs": []
    },
    {
      "cell_type": "markdown",
      "source": [
        "What do you think would be the outcome of this quantum circuit? You can get the answer by running the code block below."
      ],
      "metadata": {
        "id": "UHwY4MNRVY5_"
      }
    },
    {
      "cell_type": "code",
      "source": [
        "run(circuit)"
      ],
      "metadata": {
        "id": "2_Wy5A3rVZx1"
      },
      "execution_count": null,
      "outputs": []
    },
    {
      "cell_type": "markdown",
      "source": [
        "# Use a real quantum computer with Quantum Inspire!\n",
        "1. Go to [Quantum Inspire](https://www.quantum-inspire.com/)\n",
        "2. Click `My QI` on the top right of the page\n",
        "3. Click the `sign up` button beneath the big purple `Continue` button\n",
        "4. Enter a valid e-mail address and password and click `Continue`\n",
        "5. Click `create project` and enter a project name and description\n",
        "6. Click `Create Algorithm`, enter a algrithm name and click on `add`\n",
        "7. Copy the cQASM code below and paste it in the `source.cq` file\n",
        "8. Click run and choos your favourite device!\n",
        "\n",
        "```terminal\n",
        "version 3.0\n",
        "\n",
        "qubit[3] q\n",
        "bit[2] b\n",
        "\n",
        "H q[0]\n",
        "CNOT q[0], q[2]\n",
        "\n",
        "b = measure q[0, 2]\n",
        "```"
      ],
      "metadata": {
        "id": "RRRCg_BvnIc-"
      }
    },
    {
      "cell_type": "markdown",
      "source": [
        "# EXTRA: Deutsch-Jozsa Algorithm\n",
        "Combining the our knowledge of the `X`, `H` and `CNOT` gates we can build a simple version of a well known quantum algorithm: the Deutsch-Josza algorithm.\n",
        "\n",
        "The goal is to determine of some function $f(x)$ is constant or balanced. If $x\\in\\{0,1\\}$ is binary, then this would classically always cost at least two evaluations of $f$. With the Deutsch-Jozsa algorithm, we only need to evaluate it once!\n",
        "\n",
        "In the circuit below, if we measure the first qubit to be in the $|0\\rangle$ state, then $f$ is constant. If we measure it to be in the $|1\\rangle$ state, then it is even.\n",
        "\n",
        "Below is the circuit implementation of the Deutsch-Jozsa algorithm for $f(x)=1-x$"
      ],
      "metadata": {
        "id": "hptsWn0XVmbg"
      }
    },
    {
      "cell_type": "code",
      "source": [
        "@qml.qnode(dev)\n",
        "def circuit():\n",
        "    qml.X(\"q1\")\n",
        "    qml.H(\"q0\")\n",
        "    qml.H(\"q1\")\n",
        "\n",
        "    qml.Barrier(only_visual=True)\n",
        "\n",
        "    # Oracle f(x)=1-x\n",
        "    qml.CNOT([\"q0\", \"q1\"])\n",
        "    qml.X(\"q1\")\n",
        "\n",
        "    qml.Barrier(only_visual=True)\n",
        "\n",
        "    qml.H(\"q0\")\n",
        "    return qml.probs(\"q0\")\n",
        "\n",
        "draw(circuit)"
      ],
      "metadata": {
        "id": "B9OT0qqnXEfy"
      },
      "execution_count": null,
      "outputs": []
    },
    {
      "cell_type": "code",
      "source": [
        "run(circuit)"
      ],
      "metadata": {
        "id": "VDUvv8IGXxoy"
      },
      "execution_count": null,
      "outputs": []
    },
    {
      "cell_type": "markdown",
      "source": [
        "Below is the circuit for the Deutsch-Josza algorithm for $f(x)=1$."
      ],
      "metadata": {
        "id": "hs8FnQfFX2PZ"
      }
    },
    {
      "cell_type": "code",
      "source": [
        "@qml.qnode(dev)\n",
        "def circuit():\n",
        "    qml.X(\"q1\")\n",
        "    qml.H(\"q0\")\n",
        "    qml.H(\"q1\")\n",
        "\n",
        "    qml.Barrier()\n",
        "\n",
        "    # Oracle f(x)=1\n",
        "    qml.CNOT([\"q0\", \"q1\"])\n",
        "    qml.X(\"q1\")\n",
        "    qml.CNOT([\"q0\", \"q1\"])\n",
        "\n",
        "    qml.Barrier()\n",
        "\n",
        "    qml.H(\"q0\")\n",
        "    return qml.probs(\"q0\")\n",
        "\n",
        "draw(circuit)"
      ],
      "metadata": {
        "id": "7qpDwqCeX86N"
      },
      "execution_count": null,
      "outputs": []
    },
    {
      "cell_type": "code",
      "source": [
        "run(circuit)"
      ],
      "metadata": {
        "id": "_L4fC3jBYDKn"
      },
      "execution_count": null,
      "outputs": []
    }
  ]
}